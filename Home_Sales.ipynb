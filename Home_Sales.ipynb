{
  "cells": [
    {
      "cell_type": "code",
      "execution_count": 1,
      "metadata": {
        "colab": {
          "base_uri": "https://localhost:8080/"
        },
        "id": "a_KW73O2e3dw",
        "outputId": "b1ff057e-a619-4cb6-9a63-0b74745f883a"
      },
      "outputs": [
        {
          "output_type": "stream",
          "name": "stdout",
          "text": [
            "\r0% [Working]\r            \rHit:1 http://archive.ubuntu.com/ubuntu jammy InRelease\n",
            "\r0% [Connecting to security.ubuntu.com (185.125.190.39)] [Connected to cloud.r-project.org (108.157.1\r                                                                                                    \rGet:2 http://archive.ubuntu.com/ubuntu jammy-updates InRelease [119 kB]\n",
            "\r                                                                                                    \rGet:3 https://cloud.r-project.org/bin/linux/ubuntu jammy-cran40/ InRelease [3,626 B]\n",
            "\r0% [2 InRelease 15.6 kB/119 kB 13%] [Connecting to security.ubuntu.com (185.125.190.39)] [3 InReleas\r0% [2 InRelease 15.6 kB/119 kB 13%] [Connecting to security.ubuntu.com (185.125.190.39)] [Connected \r                                                                                                    \rHit:4 https://developer.download.nvidia.com/compute/cuda/repos/ubuntu2204/x86_64  InRelease\n",
            "\r0% [2 InRelease 15.6 kB/119 kB 13%] [Connecting to security.ubuntu.com (185.125.190.39)] [Connected \r0% [Waiting for headers] [Waiting for headers] [Connected to ppa.launchpadcontent.net (185.125.190.8\r                                                                                                    \rHit:5 http://archive.ubuntu.com/ubuntu jammy-backports InRelease\n",
            "Get:6 http://security.ubuntu.com/ubuntu jammy-security InRelease [110 kB]\n",
            "Hit:7 https://ppa.launchpadcontent.net/c2d4u.team/c2d4u4.0+/ubuntu jammy InRelease\n",
            "Hit:8 https://ppa.launchpadcontent.net/deadsnakes/ppa/ubuntu jammy InRelease\n",
            "Get:9 https://cloud.r-project.org/bin/linux/ubuntu jammy-cran40/ Packages [50.4 kB]\n",
            "Hit:10 https://ppa.launchpadcontent.net/graphics-drivers/ppa/ubuntu jammy InRelease\n",
            "Hit:11 https://ppa.launchpadcontent.net/ubuntugis/ppa/ubuntu jammy InRelease\n",
            "Get:12 http://archive.ubuntu.com/ubuntu jammy-updates/restricted amd64 Packages [1,932 kB]\n",
            "Get:13 http://archive.ubuntu.com/ubuntu jammy-updates/universe amd64 Packages [1,346 kB]\n",
            "Get:14 http://archive.ubuntu.com/ubuntu jammy-updates/main amd64 Packages [1,801 kB]\n",
            "Get:15 http://security.ubuntu.com/ubuntu jammy-security/main amd64 Packages [1,520 kB]\n",
            "Get:16 http://security.ubuntu.com/ubuntu jammy-security/universe amd64 Packages [1,074 kB]\n",
            "Fetched 7,957 kB in 3s (2,864 kB/s)\n",
            "Reading package lists... Done\n"
          ]
        }
      ],
      "source": [
        "import os\n",
        "# Find the latest version of spark 3.x  from http://www.apache.org/dist/spark/ and enter as the spark version\n",
        "# For example:\n",
        "# spark_version = 'spark-3.4.0'\n",
        "spark_version = 'spark-3.5.1'\n",
        "os.environ['SPARK_VERSION']=spark_version\n",
        "\n",
        "# Install Spark and Java\n",
        "!apt-get update\n",
        "!apt-get install openjdk-11-jdk-headless -qq > /dev/null\n",
        "!wget -q http://www.apache.org/dist/spark/$SPARK_VERSION/$SPARK_VERSION-bin-hadoop3.tgz\n",
        "!tar xf $SPARK_VERSION-bin-hadoop3.tgz\n",
        "!pip install -q findspark\n",
        "\n",
        "# Set Environment Variables\n",
        "os.environ[\"JAVA_HOME\"] = \"/usr/lib/jvm/java-11-openjdk-amd64\"\n",
        "os.environ[\"SPARK_HOME\"] = f\"/content/{spark_version}-bin-hadoop3\"\n",
        "\n",
        "# Start a SparkSession\n",
        "import findspark\n",
        "findspark.init()"
      ]
    },
    {
      "cell_type": "code",
      "execution_count": 18,
      "metadata": {
        "id": "2XbWNf1Te5fM"
      },
      "outputs": [],
      "source": [
        "# Import packages\n",
        "from pyspark.sql import SparkSession\n",
        "import time\n",
        "\n",
        "# Create a SparkSession\n",
        "spark = SparkSession.builder.appName(\"SparkSQL\").getOrCreate()"
      ]
    },
    {
      "cell_type": "code",
      "execution_count": 19,
      "metadata": {
        "id": "wOJqxG_RPSwp"
      },
      "outputs": [],
      "source": [
        "# 1. Read in the AWS S3 bucket into a DataFrame.\n",
        "from pyspark import SparkFiles\n",
        "url = \"https://2u-data-curriculum-team.s3.amazonaws.com/dataviz-classroom/v1.2/22-big-data/home_sales_revised.csv\""
      ]
    },
    {
      "cell_type": "code",
      "execution_count": 20,
      "metadata": {
        "id": "RoljcJ7WPpnm",
        "colab": {
          "base_uri": "https://localhost:8080/"
        },
        "outputId": "6d3e1672-7b2e-486e-f651-37813208c1f2"
      },
      "outputs": [
        {
          "output_type": "stream",
          "name": "stdout",
          "text": [
            "+--------------------+----------+----------+------+--------+---------+-----------+--------+------+----------+----+\n",
            "|                  id|      date|date_built| price|bedrooms|bathrooms|sqft_living|sqft_lot|floors|waterfront|view|\n",
            "+--------------------+----------+----------+------+--------+---------+-----------+--------+------+----------+----+\n",
            "|f8a53099-ba1c-47d...|2022-04-08|      2016|936923|       4|        3|       3167|   11733|     2|         1|  76|\n",
            "|7530a2d8-1ae3-451...|2021-06-13|      2013|379628|       2|        2|       2235|   14384|     1|         0|  23|\n",
            "|43de979c-0bf0-4c9...|2019-04-12|      2014|417866|       2|        2|       2127|   10575|     2|         0|   0|\n",
            "|b672c137-b88c-48b...|2019-10-16|      2016|239895|       2|        2|       1631|   11149|     2|         0|   0|\n",
            "|e0726d4d-d595-407...|2022-01-08|      2017|424418|       3|        2|       2249|   13878|     2|         0|   4|\n",
            "+--------------------+----------+----------+------+--------+---------+-----------+--------+------+----------+----+\n",
            "only showing top 5 rows\n",
            "\n"
          ]
        }
      ],
      "source": [
        "# 2. Create a temporary view of the DataFrame.\n",
        "\n",
        "# Add the CSV file to SparkFiles\n",
        "spark.sparkContext.addFile(url)\n",
        "\n",
        "# Read the CSV into a DataFrame\n",
        "home_sales_df = spark.read.option(\"header\", \"true\").csv(SparkFiles.get(\"home_sales_revised.csv\"))\n",
        "\n",
        "# Create a Temporary Table from the DataFrame\n",
        "home_sales_df.createOrReplaceTempView(\"home_sales\")\n",
        "\n",
        "# Perform a query and show only the first 5 rows\n",
        "result = spark.sql(\"SELECT * FROM home_sales\")\n",
        "result.show(5)"
      ]
    },
    {
      "cell_type": "code",
      "execution_count": 21,
      "metadata": {
        "id": "L6fkwOeOmqvq",
        "colab": {
          "base_uri": "https://localhost:8080/"
        },
        "outputId": "9d4ccf7e-c584-43ed-f56c-4cb185002037"
      },
      "outputs": [
        {
          "output_type": "stream",
          "name": "stdout",
          "text": [
            "+---------+-----------+\n",
            "|year_sold|  avg_price|\n",
            "+---------+-----------+\n",
            "|     2019|$300,263.70|\n",
            "|     2020|$298,353.78|\n",
            "|     2021|$301,819.44|\n",
            "|     2022|$296,363.88|\n",
            "+---------+-----------+\n",
            "\n"
          ]
        }
      ],
      "source": [
        "# 3. What is the average price for a four bedroom house sold per year, rounded to two decimal places?\n",
        "\n",
        "# SQL query to find the mean price of 4-bedroom homes for every year, formatted to display trailing zeros and a dollar sign\n",
        "\n",
        "# SQl query code\n",
        "query = \"\"\"\n",
        "SELECT YEAR(date) AS year_sold,\n",
        "       CONCAT('$', format_number(AVG(price), 2)) AS avg_price\n",
        "FROM home_sales\n",
        "WHERE bedrooms = 4\n",
        "GROUP BY year_sold\n",
        "ORDER BY year_sold\n",
        "\"\"\"\n",
        "\n",
        "# Execute the query\n",
        "avg_price_by_year_4_bedrooms = spark.sql(query)\n",
        "\n",
        "# Show the results\n",
        "avg_price_by_year_4_bedrooms.show()"
      ]
    },
    {
      "cell_type": "code",
      "execution_count": 22,
      "metadata": {
        "id": "l8p_tUS8h8it",
        "colab": {
          "base_uri": "https://localhost:8080/"
        },
        "outputId": "69571226-7dd0-41c4-d4b4-50bdae21db7d"
      },
      "outputs": [
        {
          "output_type": "stream",
          "name": "stdout",
          "text": [
            "+----------+-----------+\n",
            "|year_built|  avg_price|\n",
            "+----------+-----------+\n",
            "|      2010|$292,859.62|\n",
            "|      2011|$291,117.47|\n",
            "|      2012|$293,683.19|\n",
            "|      2013|$295,962.27|\n",
            "|      2014|$290,852.27|\n",
            "|      2015|$288,770.30|\n",
            "|      2016|$290,555.07|\n",
            "|      2017|$292,676.79|\n",
            "+----------+-----------+\n",
            "\n"
          ]
        }
      ],
      "source": [
        "# 4. What is the average price of a home for each year the home was built,\n",
        "# that have 3 bedrooms and 3 bathrooms, rounded to two decimal places?\n",
        "\n",
        "# SQL query to find the average price of homes with 3 bedrooms and 3 bathrooms for each year built,\n",
        "# formatted to display with a dollar sign and two decimal places, including trailing zeros.\n",
        "\n",
        "# SQl query code\n",
        "query = \"\"\"\n",
        "SELECT date_built AS year_built,\n",
        "       CONCAT('$', format_number(ROUND(AVG(price), 2), 2)) AS avg_price\n",
        "FROM home_sales\n",
        "WHERE bedrooms = 3 AND bathrooms = 3\n",
        "GROUP BY date_built\n",
        "ORDER BY date_built\n",
        "\"\"\"\n",
        "\n",
        "# Execute the query\n",
        "avg_price_by_year_built = spark.sql(query)\n",
        "\n",
        "# Show the results\n",
        "avg_price_by_year_built.show()"
      ]
    },
    {
      "cell_type": "code",
      "execution_count": 23,
      "metadata": {
        "id": "Y-Eytz64liDU",
        "colab": {
          "base_uri": "https://localhost:8080/"
        },
        "outputId": "960775f6-ae22-429a-f92a-0efea880edc6"
      },
      "outputs": [
        {
          "output_type": "stream",
          "name": "stdout",
          "text": [
            "+----------+-----------+\n",
            "|year_built|  avg_price|\n",
            "+----------+-----------+\n",
            "|      2010|$285,010.22|\n",
            "|      2011|$276,553.81|\n",
            "|      2012|$307,539.97|\n",
            "|      2013|$303,676.79|\n",
            "|      2014|$298,264.72|\n",
            "|      2015|$297,609.97|\n",
            "|      2016|$293,965.10|\n",
            "|      2017|$280,317.58|\n",
            "+----------+-----------+\n",
            "\n"
          ]
        }
      ],
      "source": [
        "# 5. What is the average price of a home for each year the home was built,\n",
        "# that have 3 bedrooms, 3 bathrooms, with two floors,\n",
        "# and are greater than or equal to 2,000 square feet, rounded to two decimal places?\n",
        "\n",
        "# SQL query to find the average price of homes with specific characteristics for each year built,\n",
        "# formatted to display with a dollar sign and two decimal places, including trailing zeros.\n",
        "\n",
        "# SQl query code\n",
        "query = \"\"\"\n",
        "SELECT date_built AS year_built,\n",
        "       CONCAT('$', format_number(ROUND(AVG(price), 2), 2)) AS avg_price\n",
        "FROM home_sales\n",
        "WHERE bedrooms = 3\n",
        "      AND bathrooms = 3\n",
        "      AND floors = 2\n",
        "      AND sqft_living >= 2000\n",
        "GROUP BY date_built\n",
        "ORDER BY date_built\n",
        "\"\"\"\n",
        "\n",
        "# Execute the query\n",
        "avg_price_by_year_built_specifics = spark.sql(query)\n",
        "\n",
        "# Show the results\n",
        "avg_price_by_year_built_specifics.show()"
      ]
    },
    {
      "cell_type": "code",
      "execution_count": 58,
      "metadata": {
        "colab": {
          "base_uri": "https://localhost:8080/"
        },
        "id": "GUrfgOX1pCRd",
        "outputId": "2bd95431-f9dc-4d30-d38d-93a929e4e8f1"
      },
      "outputs": [
        {
          "output_type": "stream",
          "name": "stdout",
          "text": [
            "+----+-------------+\n",
            "|view|    avg_price|\n",
            "+----+-------------+\n",
            "| 100|$1,026,669.50|\n",
            "|  99|$1,061,201.42|\n",
            "|  98|$1,053,739.33|\n",
            "|  97|$1,129,040.15|\n",
            "|  96|$1,017,815.92|\n",
            "|  95|$1,054,325.60|\n",
            "|  94|$1,033,536.20|\n",
            "|  93|$1,026,006.06|\n",
            "|  92|  $970,402.55|\n",
            "|  91|$1,137,372.73|\n",
            "|  90|$1,062,654.16|\n",
            "|  89|$1,107,839.15|\n",
            "|  88|$1,031,719.35|\n",
            "|  87|$1,072,285.20|\n",
            "|  86|$1,070,444.25|\n",
            "|  85|$1,056,336.74|\n",
            "|  84|$1,117,233.13|\n",
            "|  83|$1,033,965.93|\n",
            "|  82|$1,063,498.00|\n",
            "|  81|$1,053,472.79|\n",
            "|  80|  $991,767.38|\n",
            "|  79|$1,009,565.08|\n",
            "|  78|$1,080,649.37|\n",
            "|  77|$1,076,205.56|\n",
            "|  76|$1,058,802.78|\n",
            "|  75|$1,114,042.94|\n",
            "|  74|  $745,077.00|\n",
            "|  73|  $752,861.18|\n",
            "|  72|  $780,914.67|\n",
            "|  71|  $775,651.10|\n",
            "|  70|  $695,865.58|\n",
            "|  69|  $750,537.94|\n",
            "|  68|  $716,785.44|\n",
            "|  67|  $737,970.96|\n",
            "|  66|  $712,475.00|\n",
            "|  65|  $736,679.93|\n",
            "|  64|  $767,036.67|\n",
            "|  63|  $711,614.55|\n",
            "|  62|  $759,150.14|\n",
            "|  61|  $746,877.59|\n",
            "|  60|  $754,939.65|\n",
            "|  59|  $791,453.00|\n",
            "|  58|  $759,764.65|\n",
            "|  57|  $734,340.50|\n",
            "|  56|  $718,176.40|\n",
            "|  55|  $771,153.32|\n",
            "|  54|  $798,684.82|\n",
            "|  53|  $755,214.80|\n",
            "|  52|  $733,780.26|\n",
            "|  51|  $788,128.21|\n",
            "+----+-------------+\n",
            "\n",
            "Uncached runtime: 1.10392427444458 seconds\n"
          ]
        }
      ],
      "source": [
        "# 6. What is the average price of a home per \"view\" rating, rounded to two decimal places,\n",
        "# having an average home price greater than or equal to $350,000? Order by descending view rating.\n",
        "# Although this is a small dataset, determine the run time for this query.\n",
        "\n",
        "# Make sure the DataFrame is not currently cached\n",
        "home_sales_df.unpersist()\n",
        "\n",
        "# Measure the time taken to execute the query without caching\n",
        "\n",
        "# Query Start time\n",
        "start_time_uncached = time.time()\n",
        "\n",
        "# SQL query on uncached table\n",
        "spark.sql(\"\"\"\n",
        "SELECT view,\n",
        "       CONCAT('$', format_number(ROUND(AVG(price), 2), 2)) AS avg_price\n",
        "FROM home_sales\n",
        "GROUP BY view\n",
        "HAVING AVG(price) >= 350000\n",
        "ORDER BY CAST(view AS INT) DESC\n",
        "\"\"\").show(100)\n",
        "\n",
        "# Query end time and calculate difference\n",
        "end_time_uncached = time.time()\n",
        "uncached_runtime = end_time_uncached - start_time_uncached\n",
        "\n",
        "# Display SQL query runtime\n",
        "print(f\"Uncached runtime: {uncached_runtime} seconds\")"
      ]
    },
    {
      "cell_type": "code",
      "execution_count": 59,
      "metadata": {
        "id": "KAhk3ZD2tFy8"
      },
      "outputs": [],
      "source": [
        "# 7. Cache the the temporary table home_sales.\n",
        "\n",
        "# home_sales_df is the DataFrame used to create the cached temporary table 'home_sales'\n",
        "home_sales_df.cache()\n",
        "\n",
        "# Create a temporary table (view) from the cached DataFrame\n",
        "home_sales_df.createOrReplaceTempView('home_sales')"
      ]
    },
    {
      "cell_type": "code",
      "execution_count": 60,
      "metadata": {
        "id": "4opVhbvxtL-i",
        "colab": {
          "base_uri": "https://localhost:8080/"
        },
        "outputId": "260d79b0-5fcf-44e2-eafc-36d5386d95e8"
      },
      "outputs": [
        {
          "output_type": "execute_result",
          "data": {
            "text/plain": [
              "True"
            ]
          },
          "metadata": {},
          "execution_count": 60
        }
      ],
      "source": [
        "# 8. Check if the table is cached.\n",
        "spark.catalog.isCached('home_sales')"
      ]
    },
    {
      "cell_type": "code",
      "execution_count": 62,
      "metadata": {
        "colab": {
          "base_uri": "https://localhost:8080/"
        },
        "id": "5GnL46lwTSEk",
        "outputId": "f8a895b8-7859-4fd4-b2e7-b8dd5f29a2ef"
      },
      "outputs": [
        {
          "output_type": "stream",
          "name": "stdout",
          "text": [
            "+----+-------------+\n",
            "|view|    avg_price|\n",
            "+----+-------------+\n",
            "| 100|$1,026,669.50|\n",
            "|  99|$1,061,201.42|\n",
            "|  98|$1,053,739.33|\n",
            "|  97|$1,129,040.15|\n",
            "|  96|$1,017,815.92|\n",
            "|  95|$1,054,325.60|\n",
            "|  94|$1,033,536.20|\n",
            "|  93|$1,026,006.06|\n",
            "|  92|  $970,402.55|\n",
            "|  91|$1,137,372.73|\n",
            "|  90|$1,062,654.16|\n",
            "|  89|$1,107,839.15|\n",
            "|  88|$1,031,719.35|\n",
            "|  87|$1,072,285.20|\n",
            "|  86|$1,070,444.25|\n",
            "|  85|$1,056,336.74|\n",
            "|  84|$1,117,233.13|\n",
            "|  83|$1,033,965.93|\n",
            "|  82|$1,063,498.00|\n",
            "|  81|$1,053,472.79|\n",
            "|  80|  $991,767.38|\n",
            "|  79|$1,009,565.08|\n",
            "|  78|$1,080,649.37|\n",
            "|  77|$1,076,205.56|\n",
            "|  76|$1,058,802.78|\n",
            "|  75|$1,114,042.94|\n",
            "|  74|  $745,077.00|\n",
            "|  73|  $752,861.18|\n",
            "|  72|  $780,914.67|\n",
            "|  71|  $775,651.10|\n",
            "|  70|  $695,865.58|\n",
            "|  69|  $750,537.94|\n",
            "|  68|  $716,785.44|\n",
            "|  67|  $737,970.96|\n",
            "|  66|  $712,475.00|\n",
            "|  65|  $736,679.93|\n",
            "|  64|  $767,036.67|\n",
            "|  63|  $711,614.55|\n",
            "|  62|  $759,150.14|\n",
            "|  61|  $746,877.59|\n",
            "|  60|  $754,939.65|\n",
            "|  59|  $791,453.00|\n",
            "|  58|  $759,764.65|\n",
            "|  57|  $734,340.50|\n",
            "|  56|  $718,176.40|\n",
            "|  55|  $771,153.32|\n",
            "|  54|  $798,684.82|\n",
            "|  53|  $755,214.80|\n",
            "|  52|  $733,780.26|\n",
            "|  51|  $788,128.21|\n",
            "+----+-------------+\n",
            "\n",
            "Cached runtime: 0.4883849620819092 seconds\n",
            "Runtime difference querying cached table (vs. uncached table; positive numbers indicate runtime improvement): 0.6155393123626709 seconds\n"
          ]
        }
      ],
      "source": [
        "# 9. Using the cached data, run the last query above, that calculates\n",
        "# the average price of a home per \"view\" rating, rounded to two decimal places,\n",
        "# having an average home price greater than or equal to $350,000.\n",
        "# Determine the runtime and compare it to the uncached runtime.\n",
        "\n",
        "# Measure the time taken to execute the query with caching\n",
        "\n",
        "# Query start time\n",
        "start_time_cached = time.time()\n",
        "\n",
        "# SQL query on cached table\n",
        "spark.sql(\"\"\"\n",
        "SELECT view,\n",
        "       CONCAT('$', format_number(ROUND(AVG(price), 2), 2)) AS avg_price\n",
        "FROM home_sales\n",
        "GROUP BY view\n",
        "HAVING AVG(price) >= 350000\n",
        "ORDER BY CAST(view AS INT) DESC\n",
        "\"\"\").show(100)\n",
        "\n",
        "# Query end time and calculate difference\n",
        "end_time_cached = time.time()\n",
        "cached_runtime = end_time_cached - start_time_cached\n",
        "\n",
        "# Display SQL query runtime and difference in cached vs uncached runtime\n",
        "print(f\"Cached runtime: {cached_runtime} seconds\")\n",
        "\n",
        "print(f\"Runtime difference querying cached table (vs. uncached table; positive numbers indicate runtime improvement): {uncached_runtime - cached_runtime} seconds\")"
      ]
    },
    {
      "cell_type": "code",
      "execution_count": 63,
      "metadata": {
        "id": "Qm12WN9isHBR"
      },
      "outputs": [],
      "source": [
        "# 10. Partition by the \"date_built\" field on the formatted parquet home sales data\n",
        "\n",
        "# Path to save the partitioned Parquet files\n",
        "output_path = \"/home_sales_partitioned_by_date_built\"\n",
        "\n",
        "# Write the DataFrame to Parquet, partitioned by 'date_built'\n",
        "home_sales_df.write.partitionBy(\"date_built\").mode(\"overwrite\").parquet(output_path)"
      ]
    },
    {
      "cell_type": "code",
      "execution_count": 65,
      "metadata": {
        "id": "AZ7BgY61sRqY",
        "colab": {
          "base_uri": "https://localhost:8080/"
        },
        "outputId": "801ce677-e8f4-49a1-9e9f-01d2d10e95a8"
      },
      "outputs": [
        {
          "output_type": "stream",
          "name": "stdout",
          "text": [
            "root\n",
            " |-- id: string (nullable = true)\n",
            " |-- date: string (nullable = true)\n",
            " |-- price: string (nullable = true)\n",
            " |-- bedrooms: string (nullable = true)\n",
            " |-- bathrooms: string (nullable = true)\n",
            " |-- sqft_living: string (nullable = true)\n",
            " |-- sqft_lot: string (nullable = true)\n",
            " |-- floors: string (nullable = true)\n",
            " |-- waterfront: string (nullable = true)\n",
            " |-- view: string (nullable = true)\n",
            " |-- date_built: integer (nullable = true)\n",
            "\n",
            "+--------------------+----------+-------+--------+---------+-----------+--------+------+----------+----+----------+\n",
            "|                  id|      date|  price|bedrooms|bathrooms|sqft_living|sqft_lot|floors|waterfront|view|date_built|\n",
            "+--------------------+----------+-------+--------+---------+-----------+--------+------+----------+----+----------+\n",
            "|7530a2d8-1ae3-451...|2021-06-13| 379628|       2|        2|       2235|   14384|     1|         0|  23|      2013|\n",
            "|d6b9fc56-fc83-469...|2021-10-23| 332675|       3|        2|       1515|    8390|     1|         0|  21|      2013|\n",
            "|c12e7b75-fafb-408...|2020-07-07| 151929|       2|        3|       1952|   13274|     2|         0|   9|      2013|\n",
            "|ae3b0e50-4238-421...|2019-10-13| 299056|       4|        3|       1613|   11634|     2|         0|  17|      2013|\n",
            "|4e7589ae-cc76-480...|2019-06-23| 139970|       2|        3|       2192|   10466|     2|         0|   7|      2013|\n",
            "|44b0b335-2cbd-433...|2020-06-04|1467672|       7|        3|       5510|    8269|     1|         1|  93|      2013|\n",
            "|0c686512-f14e-450...|2022-06-12| 391189|       3|        3|       1552|    9659|     2|         0|  31|      2013|\n",
            "|b9c0dba6-0199-4d5...|2022-05-26| 239787|       2|        2|       2200|    8582|     1|         0|  14|      2013|\n",
            "|b26d30c2-8504-414...|2019-12-10| 165844|       4|        2|       2164|    9014|     1|         0|  10|      2013|\n",
            "|7ebca02b-6f74-4c2...|2020-06-13| 212334|       3|        2|       2371|   12164|     2|         0|  23|      2013|\n",
            "|1c912207-ea69-407...|2022-03-16| 234777|       3|        2|       1949|   13028|     1|         0|  41|      2013|\n",
            "|aa7c10bd-8a42-404...|2019-02-09| 191167|       4|        2|       2287|   15000|     1|         0|  10|      2013|\n",
            "|27654698-8cd8-42d...|2022-04-15| 428849|       4|        3|       2221|   10152|     2|         0|  36|      2013|\n",
            "|ae749736-c24d-470...|2021-06-21| 406015|       2|        3|       2245|   11745|     2|         0|  13|      2013|\n",
            "|b1e1c9d0-8cc9-40a...|2021-10-25| 238247|       3|        2|       2307|   13214|     2|         0|  32|      2013|\n",
            "|da5df765-7cb5-415...|2021-07-06| 332702|       2|        2|       2232|   13063|     1|         0|   6|      2013|\n",
            "|05fad77b-a7bb-4b4...|2020-11-01| 274348|       2|        3|       1709|   10836|     2|         0|  35|      2013|\n",
            "|37e9267d-e7a4-465...|2022-05-28| 885325|       4|        3|       4617|    9853|     3|         0|  50|      2013|\n",
            "|3a454cdb-6502-4d4...|2019-11-08| 137382|       4|        3|       1948|   14066|     2|         0|   4|      2013|\n",
            "|e9e8b680-015a-487...|2019-03-01| 344024|       3|        3|       2489|   10346|     1|         0|  43|      2013|\n",
            "+--------------------+----------+-------+--------+---------+-----------+--------+------+----------+----+----------+\n",
            "only showing top 20 rows\n",
            "\n"
          ]
        }
      ],
      "source": [
        "# 11. Read the parquet formatted data.\n",
        "\n",
        "# Read the partitioned Parquet data back into a DataFrame\n",
        "partitioned_df = spark.read.parquet(output_path)\n",
        "\n",
        "# Show the DataFrame schema to verify the partitioning\n",
        "partitioned_df.printSchema()\n",
        "\n",
        "# Perform a sample query to demonstrate the use of partitioning\n",
        "sample_year = \"2013\"\n",
        "partitioned_df.where(partitioned_df.date_built == sample_year).show()"
      ]
    },
    {
      "cell_type": "code",
      "execution_count": 66,
      "metadata": {
        "id": "J6MJkHfvVcvh",
        "colab": {
          "base_uri": "https://localhost:8080/"
        },
        "outputId": "d4566b00-8d06-47cf-ea3d-e04b8e53fc11"
      },
      "outputs": [
        {
          "output_type": "stream",
          "name": "stdout",
          "text": [
            "+--------------------+----------+------+--------+---------+-----------+--------+------+----------+----+----------+\n",
            "|                  id|      date| price|bedrooms|bathrooms|sqft_living|sqft_lot|floors|waterfront|view|date_built|\n",
            "+--------------------+----------+------+--------+---------+-----------+--------+------+----------+----+----------+\n",
            "|2ed8d509-7372-46d...|2021-08-06|258710|       3|        3|       1918|    9666|     1|         0|  25|      2015|\n",
            "|941bad30-eb49-4a7...|2020-05-09|229896|       3|        3|       2197|    8641|     1|         0|   3|      2015|\n",
            "|c797ca12-52cd-4b1...|2019-06-08|288650|       2|        3|       2100|   10419|     2|         0|   7|      2015|\n",
            "|0cfe57f3-28c2-472...|2019-10-04|308313|       3|        3|       1960|    9453|     2|         0|   2|      2015|\n",
            "|d715f295-2fbf-4e9...|2021-05-17|391574|       3|        2|       1635|    8040|     2|         0|  10|      2015|\n",
            "|a18515a2-86f3-46b...|2022-02-18|419543|       3|        2|       1642|   12826|     2|         0|  24|      2015|\n",
            "|98f6a9ad-8870-474...|2022-05-07|136752|       2|        3|       1701|   10771|     2|         0|   5|      2015|\n",
            "|7ac67498-b6f3-403...|2021-05-12|349318|       4|        3|       2417|   11304|     2|         0|  37|      2015|\n",
            "|c9bfdb1c-2499-4e3...|2021-12-07|268874|       2|        2|       1537|   12177|     1|         0|  10|      2015|\n",
            "|34c31a34-220d-469...|2019-02-06|409011|       3|        3|       2356|   10507|     1|         0|   1|      2015|\n",
            "+--------------------+----------+------+--------+---------+-----------+--------+------+----------+----+----------+\n",
            "\n"
          ]
        }
      ],
      "source": [
        "# 12. Create a temporary table for the parquet data.\n",
        "\n",
        "# partitioned_df is our DataFrame loaded from the partitioned Parquet files\n",
        "partitioned_df.createOrReplaceTempView('home_sales')\n",
        "\n",
        "# Use Spark SQL to query the data\n",
        "spark.sql(\"SELECT * FROM home_sales LIMIT 10\").show()"
      ]
    },
    {
      "cell_type": "code",
      "execution_count": 67,
      "metadata": {
        "colab": {
          "base_uri": "https://localhost:8080/"
        },
        "id": "G_Vhb52rU1Sn",
        "outputId": "815d363b-dfa6-4d1f-86e7-7bd7a96ab1c0"
      },
      "outputs": [
        {
          "output_type": "stream",
          "name": "stdout",
          "text": [
            "+----+-------------+\n",
            "|view|    avg_price|\n",
            "+----+-------------+\n",
            "| 100|$1,026,669.50|\n",
            "|  99|$1,061,201.42|\n",
            "|  98|$1,053,739.33|\n",
            "|  97|$1,129,040.15|\n",
            "|  96|$1,017,815.92|\n",
            "|  95|$1,054,325.60|\n",
            "|  94|$1,033,536.20|\n",
            "|  93|$1,026,006.06|\n",
            "|  92|  $970,402.55|\n",
            "|  91|$1,137,372.73|\n",
            "|  90|$1,062,654.16|\n",
            "|  89|$1,107,839.15|\n",
            "|  88|$1,031,719.35|\n",
            "|  87|$1,072,285.20|\n",
            "|  86|$1,070,444.25|\n",
            "|  85|$1,056,336.74|\n",
            "|  84|$1,117,233.13|\n",
            "|  83|$1,033,965.93|\n",
            "|  82|$1,063,498.00|\n",
            "|  81|$1,053,472.79|\n",
            "|  80|  $991,767.38|\n",
            "|  79|$1,009,565.08|\n",
            "|  78|$1,080,649.37|\n",
            "|  77|$1,076,205.56|\n",
            "|  76|$1,058,802.78|\n",
            "|  75|$1,114,042.94|\n",
            "|  74|  $745,077.00|\n",
            "|  73|  $752,861.18|\n",
            "|  72|  $780,914.67|\n",
            "|  71|  $775,651.10|\n",
            "|  70|  $695,865.58|\n",
            "|  69|  $750,537.94|\n",
            "|  68|  $716,785.44|\n",
            "|  67|  $737,970.96|\n",
            "|  66|  $712,475.00|\n",
            "|  65|  $736,679.93|\n",
            "|  64|  $767,036.67|\n",
            "|  63|  $711,614.55|\n",
            "|  62|  $759,150.14|\n",
            "|  61|  $746,877.59|\n",
            "|  60|  $754,939.65|\n",
            "|  59|  $791,453.00|\n",
            "|  58|  $759,764.65|\n",
            "|  57|  $734,340.50|\n",
            "|  56|  $718,176.40|\n",
            "|  55|  $771,153.32|\n",
            "|  54|  $798,684.82|\n",
            "|  53|  $755,214.80|\n",
            "|  52|  $733,780.26|\n",
            "|  51|  $788,128.21|\n",
            "+----+-------------+\n",
            "\n",
            "Parquet runtime: 0.3664999008178711 seconds\n",
            "Runtime difference querying Parquet formatted table (vs. cached table; positive numbers indicate runtime improvement): 0.12188506126403809 seconds\n"
          ]
        }
      ],
      "source": [
        "# 13. Using the parquet DataFrame, run the last query above, that calculates\n",
        "# the average price of a home per \"view\" rating, rounded to two decimal places,\n",
        "# having an average home price greater than or equal to $350,000.\n",
        "# Determine the runtime and compare it to the cached runtime.\n",
        "\n",
        "# Query start time\n",
        "start_time_parquet = time.time()\n",
        "\n",
        "# SQL query on parquet DataFrame\n",
        "spark.sql(\"\"\"\n",
        "SELECT view,\n",
        "       CONCAT('$', format_number(ROUND(AVG(price), 2), 2)) AS avg_price\n",
        "FROM home_sales\n",
        "GROUP BY view\n",
        "HAVING AVG(price) >= 350000\n",
        "ORDER BY CAST(view AS INT) DESC\n",
        "\"\"\").show(100)\n",
        "\n",
        "# Query end time and calculate difference\n",
        "end_time_parquet = time.time()\n",
        "parquet_runtime = end_time_parquet - start_time_parquet\n",
        "\n",
        "# Display SQL query runtime and difference in Parquet vs cached runtime\n",
        "print(f\"Parquet runtime: {parquet_runtime} seconds\")\n",
        "print(f\"Runtime difference querying Parquet formatted table (vs. cached table; positive numbers indicate runtime improvement): {cached_runtime - parquet_runtime} seconds\")"
      ]
    },
    {
      "cell_type": "code",
      "execution_count": 68,
      "metadata": {
        "id": "hjjYzQGjtbq8",
        "colab": {
          "base_uri": "https://localhost:8080/"
        },
        "outputId": "9f98945a-e8f9-456f-9077-70a23be5df66"
      },
      "outputs": [
        {
          "output_type": "execute_result",
          "data": {
            "text/plain": [
              "DataFrame[id: string, date: string, date_built: string, price: string, bedrooms: string, bathrooms: string, sqft_living: string, sqft_lot: string, floors: string, waterfront: string, view: string]"
            ]
          },
          "metadata": {},
          "execution_count": 68
        }
      ],
      "source": [
        "# 14. Uncache the home_sales temporary table.\n",
        "home_sales_df.unpersist()"
      ]
    },
    {
      "cell_type": "code",
      "execution_count": 69,
      "metadata": {
        "id": "Sy9NBvO7tlmm",
        "colab": {
          "base_uri": "https://localhost:8080/"
        },
        "outputId": "4eb75b3e-79b0-4dd9-8455-27469f1f9294"
      },
      "outputs": [
        {
          "output_type": "execute_result",
          "data": {
            "text/plain": [
              "False"
            ]
          },
          "metadata": {},
          "execution_count": 69
        }
      ],
      "source": [
        "# 15. Check if the home_sales is no longer cached\n",
        "spark.catalog.isCached('home_sales')"
      ]
    }
  ],
  "metadata": {
    "colab": {
      "provenance": []
    },
    "gpuClass": "standard",
    "kernelspec": {
      "display_name": "Python 3 (ipykernel)",
      "language": "python",
      "name": "python3"
    },
    "language_info": {
      "codemirror_mode": {
        "name": "ipython",
        "version": 3
      },
      "file_extension": ".py",
      "mimetype": "text/x-python",
      "name": "python",
      "nbconvert_exporter": "python",
      "pygments_lexer": "ipython3",
      "version": "3.10.4"
    },
    "nteract": {
      "version": "0.28.0"
    }
  },
  "nbformat": 4,
  "nbformat_minor": 0
}